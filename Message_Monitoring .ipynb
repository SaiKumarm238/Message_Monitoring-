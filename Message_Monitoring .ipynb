{
 "cells": [
  {
   "cell_type": "code",
   "execution_count": 1,
   "metadata": {},
   "outputs": [],
   "source": [
    "import pymysql"
   ]
  },
  {
   "cell_type": "code",
   "execution_count": 2,
   "metadata": {},
   "outputs": [],
   "source": [
    "mydb = pymysql.connect(\n",
    "    host =\"localhost\",\n",
    "    user = \"root\",\n",
    "    password = \"root\",\n",
    "    database = \"mmssms\"  #path = \"/data/data/com.android.providers/telephony/databases/mmssms.db\"\n",
    ") \n",
    "\n",
    "mycursor = mydb.cursor()"
   ]
  },
  {
   "cell_type": "code",
   "execution_count": 5,
   "metadata": {},
   "outputs": [],
   "source": [
    "#mycursor.execute(\"create database mmssms\")"
   ]
  },
  {
   "cell_type": "code",
   "execution_count": 8,
   "metadata": {},
   "outputs": [
    {
     "name": "stdout",
     "output_type": "stream",
     "text": [
      "('employ_data',)\n",
      "('sms',)\n",
      "('threads',)\n"
     ]
    }
   ],
   "source": [
    "#path = \"/data/data/com.android.providers/telephony/databases/mmssms.db\"\n",
    "\n",
    "mycursor.execute(\"use mmssms\")\n",
    "\n",
    "mycursor.execute(\"show tables\")\n",
    "for i in mycursor:\n",
    "    print(i)"
   ]
  },
  {
   "cell_type": "markdown",
   "metadata": {},
   "source": [
    "# Creating Tbales in MMSSMS"
   ]
  },
  {
   "cell_type": "code",
   "execution_count": 9,
   "metadata": {},
   "outputs": [],
   "source": [
    "sql = \"CREATE TABLE if not exists threads (id int AUTO_INCREMENT PRIMARY KEY ,\\\n",
    "   date int DEFAULT 0,\\\n",
    "   message_count int DEFAULT 0,\\\n",
    "   recipient_ids TEXT,\\\n",
    "   snippet TEXT,\\\n",
    "   snippet_cs int DEFAULT 0,\\\n",
    "   read_ int DEFAULT 1,\\\n",
    "   type_ int DEFAULT 0,\\\n",
    "   error_ int DEFAULT 0,\\\n",
    "   has_attachment int DEFAULT 0)\""
   ]
  },
  {
   "cell_type": "code",
   "execution_count": 10,
   "metadata": {},
   "outputs": [
    {
     "data": {
      "text/plain": [
       "0"
      ]
     },
     "execution_count": 10,
     "metadata": {},
     "output_type": "execute_result"
    }
   ],
   "source": [
    "mycursor.execute(sql)"
   ]
  },
  {
   "cell_type": "code",
   "execution_count": 11,
   "metadata": {},
   "outputs": [],
   "source": [
    "sql = \"CREATE TABLE if not exists sms (id INTEGER PRIMARY KEY,\\\n",
    "   thread_id INTEGER,\\\n",
    "   address TEXT,\\\n",
    "   person INTEGER,\\\n",
    "   date INTEGER,\\\n",
    "   date_sent INTEGER DEFAULT 0,\\\n",
    "   protocol INTEGER,\\\n",
    "   read_ INTEGER DEFAULT 0,\\\n",
    "   status INTEGER DEFAULT -1,\\\n",
    "   type INTEGER,\\\n",
    "   reply_path_present INTEGER,\\\n",
    "   subject TEXT,\\\n",
    "   body TEXT,\\\n",
    "   service_center TEXT,\\\n",
    "   locked INTEGER DEFAULT 0,\\\n",
    "   error_code INTEGER DEFAULT 0,\\\n",
    "   seen INTEGER DEFAULT 0)\""
   ]
  },
  {
   "cell_type": "code",
   "execution_count": 7,
   "metadata": {},
   "outputs": [
    {
     "name": "stdout",
     "output_type": "stream",
     "text": [
      "1 was inserted.\n"
     ]
    }
   ],
   "source": [
    "sql = \"INSERT INTO sms (address, person, subject, body) VALUES (%s, %s, %s, %s)\"\n",
    "val = [\n",
    "    (\"VM-NHPSMS\",86647767, \"Cowin\", \"Dear name, You have successfully been vaccinated with your 1st Dose with COVISHIELD on 25-05-2021 at 12:53 PM. You may download your vaccination Certificate from - https://cowin.gov.in - CoWIN\" ),\n",
    "]\n",
    "\n",
    "mycursor.executemany(sql, val)\n",
    "\n",
    "mydb.commit()\n",
    "\n",
    "print(mycursor.rowcount, \"was inserted.\")"
   ]
  },
  {
   "cell_type": "code",
   "execution_count": 24,
   "metadata": {},
   "outputs": [
    {
     "name": "stdout",
     "output_type": "stream",
     "text": [
      "1 was inserted.\n"
     ]
    }
   ],
   "source": [
    "sql = \"INSERT INTO sms (address, person, subject, body) VALUES (%s, %s, %s, %s)\"\n",
    "val = [\n",
    "    (\"VM-NHPSMS\",45557885, \"Cowin\", \"Dear name, You have successfully been vaccinated with your 1st Dose with COVISHIELD on 25-05-2021 at 12:53 PM. You may download your vaccination Certificate from - https://cowin.gov.in - CoWIN\" ),\n",
    "]\n",
    "\n",
    "mycursor.executemany(sql, val)\n",
    "\n",
    "mydb.commit()\n",
    "\n",
    "print(mycursor.rowcount, \"was inserted.\")"
   ]
  },
  {
   "cell_type": "code",
   "execution_count": 15,
   "metadata": {},
   "outputs": [],
   "source": [
    "mycursor.execute(\"select subject,person,body from sms where subject ='Cowin'\")\n",
    "\n",
    "li = []\n",
    "for i in mycursor:\n",
    "    li.append(i)"
   ]
  },
  {
   "cell_type": "code",
   "execution_count": 16,
   "metadata": {
    "scrolled": true
   },
   "outputs": [
    {
     "data": {
      "text/plain": [
       "[('Cowin',\n",
       "  86647767,\n",
       "  'Dear name, You have successfully been vaccinated with your 1st Dose with COVISHIELD on 25-05-2021 at 12:53 PM. You may download your vaccination Certificate from - https://cowin.gov.in - CoWIN'),\n",
       " ('Cowin',\n",
       "  45557885,\n",
       "  'Dear name, You have successfully been vaccinated with your 1st Dose with COVISHIELD on 25-05-2021 at 12:53 PM. You may download your vaccination Certificate from - https://cowin.gov.in - CoWIN')]"
      ]
     },
     "execution_count": 16,
     "metadata": {},
     "output_type": "execute_result"
    }
   ],
   "source": [
    "li"
   ]
  },
  {
   "cell_type": "code",
   "execution_count": 18,
   "metadata": {},
   "outputs": [
    {
     "data": {
      "text/plain": [
       "2"
      ]
     },
     "execution_count": 18,
     "metadata": {},
     "output_type": "execute_result"
    }
   ],
   "source": [
    "len(li)"
   ]
  },
  {
   "cell_type": "code",
   "execution_count": 27,
   "metadata": {},
   "outputs": [],
   "source": [
    "message = li[1][2]"
   ]
  },
  {
   "cell_type": "code",
   "execution_count": 28,
   "metadata": {},
   "outputs": [
    {
     "data": {
      "text/plain": [
       "'Dear name, You have successfully been vaccinated with your 1st Dose with COVISHIELD on 25-05-2021 at 12:53 PM. You may download your vaccination Certificate from - https://cowin.gov.in - CoWIN'"
      ]
     },
     "execution_count": 28,
     "metadata": {},
     "output_type": "execute_result"
    }
   ],
   "source": [
    "message"
   ]
  },
  {
   "cell_type": "code",
   "execution_count": 30,
   "metadata": {},
   "outputs": [
    {
     "data": {
      "text/plain": [
       "int"
      ]
     },
     "execution_count": 30,
     "metadata": {},
     "output_type": "execute_result"
    }
   ],
   "source": [
    "phone_num= li[1][1]\n",
    "phone_num"
   ]
  },
  {
   "cell_type": "code",
   "execution_count": 32,
   "metadata": {},
   "outputs": [
    {
     "name": "stdout",
     "output_type": "stream",
     "text": [
      "0 record(s) affected\n",
      "yes\n"
     ]
    }
   ],
   "source": [
    "if \"successfully been vaccinated\" in message:\n",
    "    sql = \"update employ_data set vaccinated = %s where phone_no= %s\"\n",
    "\n",
    "    val = (1, phone_num)\n",
    "\n",
    "    mycursor.execute(sql,val)\n",
    "\n",
    "    mydb.commit()\n",
    "\n",
    "    print(mycursor.rowcount, \"record(s) affected\")\n",
    "    print(\"yes\")\n",
    "else:\n",
    "    print(\"no\")"
   ]
  },
  {
   "cell_type": "code",
   "execution_count": 11,
   "metadata": {},
   "outputs": [
    {
     "name": "stdout",
     "output_type": "stream",
     "text": [
      "(1, None, 'VM-NHPSMS', 86647767, None, 0, None, 0, -1, None, None, 'Cowin', 'Dear name, You have successfully been vaccinated with your 1st Dose with COVISHIELD on 25-05-2021 at 12:53 PM. You may download your vaccination Certificate from - https://cowin.gov.in - CoWIN', None, 0, 0, 0)\n"
     ]
    }
   ],
   "source": [
    "mycursor.execute(\"select  from sms\")\n",
    "\n",
    "res = mycursor.fetchall()\n",
    "\n",
    "for i in res:\n",
    "    print(i)"
   ]
  },
  {
   "cell_type": "code",
   "execution_count": null,
   "metadata": {},
   "outputs": [],
   "source": []
  },
  {
   "cell_type": "markdown",
   "metadata": {},
   "source": [
    "# Creating and inserting the Employ Data in to DB"
   ]
  },
  {
   "cell_type": "code",
   "execution_count": 44,
   "metadata": {},
   "outputs": [
    {
     "data": {
      "text/plain": [
       "0"
      ]
     },
     "execution_count": 44,
     "metadata": {},
     "output_type": "execute_result"
    }
   ],
   "source": [
    "mycursor.execute('create table if not exists employ_data (id INT AUTO_INCREMENT PRIMARY KEY, emp_id int(10), emp_name varchar(50), phone_no int(10), vaccinated int default 0 )')"
   ]
  },
  {
   "cell_type": "code",
   "execution_count": 45,
   "metadata": {},
   "outputs": [
    {
     "name": "stdout",
     "output_type": "stream",
     "text": [
      "('employ_data',)\n",
      "('sms',)\n",
      "('threads',)\n"
     ]
    }
   ],
   "source": [
    "mycursor.execute(\"show tables\")\n",
    "\n",
    "for i in mycursor:\n",
    "    print(i)"
   ]
  },
  {
   "cell_type": "code",
   "execution_count": 5,
   "metadata": {},
   "outputs": [
    {
     "name": "stdout",
     "output_type": "stream",
     "text": [
      "5 was inserted.\n"
     ]
    }
   ],
   "source": [
    "sql = \"INSERT INTO employ_data (emp_id, emp_name, phone_no) VALUES (%s, %s, %s)\"\n",
    "val = [\n",
    "    (21185, \"sunitha\", 45557885),\n",
    "    (21186, \"avi\", 45559723),\n",
    "    (21187, \"sai\", 455598955),\n",
    "    (21188, \"srikanth\", 45559145),\n",
    "    (21189, \"manoj\", 45549785),\n",
    "]\n",
    "\n",
    "mycursor.executemany(sql, val)\n",
    "\n",
    "mydb.commit()\n",
    "\n",
    "print(mycursor.rowcount, \"was inserted.\")"
   ]
  },
  {
   "cell_type": "code",
   "execution_count": 6,
   "metadata": {},
   "outputs": [
    {
     "data": {
      "text/plain": [
       "((1, 21185, 'sunitha', 45557885, 0),\n",
       " (2, 21186, 'avi', 45559723, 0),\n",
       " (3, 21187, 'sai', 455598955, 0),\n",
       " (4, 21188, 'srikanth', 45559145, 0),\n",
       " (5, 21189, 'manoj', 45549785, 0),\n",
       " (6, 21185, 'sunitha', 45557885, 0),\n",
       " (7, 21186, 'avi', 45559723, 0),\n",
       " (8, 21187, 'sai', 455598955, 0),\n",
       " (9, 21188, 'srikanth', 45559145, 0),\n",
       " (10, 21189, 'manoj', 45549785, 0))"
      ]
     },
     "execution_count": 6,
     "metadata": {},
     "output_type": "execute_result"
    }
   ],
   "source": [
    "mycursor.execute(\"select * from employ_data\")\n",
    "mycursor.fetchall()"
   ]
  },
  {
   "cell_type": "code",
   "execution_count": 33,
   "metadata": {},
   "outputs": [
    {
     "data": {
      "text/plain": [
       "((1, 21185, 'sunitha', 45557885, 1),\n",
       " (2, 21186, 'avi', 45559723, 0),\n",
       " (3, 21187, 'sai', 455598955, 0),\n",
       " (4, 21188, 'srikanth', 45559145, 0),\n",
       " (5, 21189, 'manoj', 45549785, 0),\n",
       " (6, 21185, 'sunitha', 45557885, 1),\n",
       " (7, 21186, 'avi', 45559723, 0),\n",
       " (8, 21187, 'sai', 455598955, 0),\n",
       " (9, 21188, 'srikanth', 45559145, 0),\n",
       " (10, 21189, 'manoj', 45549785, 0))"
      ]
     },
     "execution_count": 33,
     "metadata": {},
     "output_type": "execute_result"
    }
   ],
   "source": [
    "mycursor.execute(\"select * from employ_data\")\n",
    "mycursor.fetchall()"
   ]
  },
  {
   "cell_type": "code",
   "execution_count": null,
   "metadata": {},
   "outputs": [],
   "source": []
  }
 ],
 "metadata": {
  "kernelspec": {
   "display_name": "Python 3",
   "language": "python",
   "name": "python3"
  },
  "language_info": {
   "codemirror_mode": {
    "name": "ipython",
    "version": 3
   },
   "file_extension": ".py",
   "mimetype": "text/x-python",
   "name": "python",
   "nbconvert_exporter": "python",
   "pygments_lexer": "ipython3",
   "version": "3.8.5"
  }
 },
 "nbformat": 4,
 "nbformat_minor": 4
}
